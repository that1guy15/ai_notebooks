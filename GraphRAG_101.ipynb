{
  "nbformat": 4,
  "nbformat_minor": 0,
  "metadata": {
    "colab": {
      "provenance": [],
      "authorship_tag": "ABX9TyNk972S+7ASXV+rhC6Jn5up",
      "include_colab_link": true
    },
    "kernelspec": {
      "name": "python3",
      "display_name": "Python 3"
    },
    "language_info": {
      "name": "python"
    }
  },
  "cells": [
    {
      "cell_type": "markdown",
      "metadata": {
        "id": "view-in-github",
        "colab_type": "text"
      },
      "source": [
        "<a href=\"https://colab.research.google.com/github/that1guy15/ai_notebooks/blob/main/GraphRAG_101.ipynb\" target=\"_parent\"><img src=\"https://colab.research.google.com/assets/colab-badge.svg\" alt=\"Open In Colab\"/></a>"
      ]
    },
    {
      "cell_type": "markdown",
      "source": [
        "Source: https://medium.com/data-science-in-your-pocket/graphrag-using-langchain-31b1ef8328b9"
      ],
      "metadata": {
        "id": "m91NIMb6lkv2"
      }
    },
    {
      "cell_type": "code",
      "execution_count": 1,
      "metadata": {
        "colab": {
          "base_uri": "https://localhost:8080/"
        },
        "id": "i51aIoExldfb",
        "outputId": "2e03d8d7-7806-4075-cfee-c33d7ee7b700"
      },
      "outputs": [
        {
          "output_type": "stream",
          "name": "stdout",
          "text": [
            "\u001b[2K     \u001b[90m━━━━━━━━━━━━━━━━━━━━━━━━━━━━━━━━━━━━━━━━\u001b[0m \u001b[32m50.4/50.4 kB\u001b[0m \u001b[31m1.4 MB/s\u001b[0m eta \u001b[36m0:00:00\u001b[0m\n",
            "\u001b[2K   \u001b[90m━━━━━━━━━━━━━━━━━━━━━━━━━━━━━━━━━━━━━━━━\u001b[0m \u001b[32m399.7/399.7 kB\u001b[0m \u001b[31m5.8 MB/s\u001b[0m eta \u001b[36m0:00:00\u001b[0m\n",
            "\u001b[2K   \u001b[90m━━━━━━━━━━━━━━━━━━━━━━━━━━━━━━━━━━━━━━━━\u001b[0m \u001b[32m51.5/51.5 kB\u001b[0m \u001b[31m3.1 MB/s\u001b[0m eta \u001b[36m0:00:00\u001b[0m\n",
            "\u001b[2K   \u001b[90m━━━━━━━━━━━━━━━━━━━━━━━━━━━━━━━━━━━━━━━━\u001b[0m \u001b[32m206.9/206.9 kB\u001b[0m \u001b[31m11.7 MB/s\u001b[0m eta \u001b[36m0:00:00\u001b[0m\n",
            "\u001b[2K   \u001b[90m━━━━━━━━━━━━━━━━━━━━━━━━━━━━━━━━━━━━━━━━\u001b[0m \u001b[32m2.3/2.3 MB\u001b[0m \u001b[31m28.5 MB/s\u001b[0m eta \u001b[36m0:00:00\u001b[0m\n",
            "\u001b[2K   \u001b[90m━━━━━━━━━━━━━━━━━━━━━━━━━━━━━━━━━━━━━━━━\u001b[0m \u001b[32m1.0/1.0 MB\u001b[0m \u001b[31m31.6 MB/s\u001b[0m eta \u001b[36m0:00:00\u001b[0m\n",
            "\u001b[2K   \u001b[90m━━━━━━━━━━━━━━━━━━━━━━━━━━━━━━━━━━━━━━━━\u001b[0m \u001b[32m290.2/290.2 kB\u001b[0m \u001b[31m16.9 MB/s\u001b[0m eta \u001b[36m0:00:00\u001b[0m\n",
            "\u001b[2K   \u001b[90m━━━━━━━━━━━━━━━━━━━━━━━━━━━━━━━━━━━━━━━━\u001b[0m \u001b[32m375.6/375.6 kB\u001b[0m \u001b[31m19.8 MB/s\u001b[0m eta \u001b[36m0:00:00\u001b[0m\n",
            "\u001b[2K   \u001b[90m━━━━━━━━━━━━━━━━━━━━━━━━━━━━━━━━━━━━━━━━\u001b[0m \u001b[32m1.1/1.1 MB\u001b[0m \u001b[31m37.2 MB/s\u001b[0m eta \u001b[36m0:00:00\u001b[0m\n",
            "\u001b[2K   \u001b[90m━━━━━━━━━━━━━━━━━━━━━━━━━━━━━━━━━━━━━━━━\u001b[0m \u001b[32m76.4/76.4 kB\u001b[0m \u001b[31m4.4 MB/s\u001b[0m eta \u001b[36m0:00:00\u001b[0m\n",
            "\u001b[2K   \u001b[90m━━━━━━━━━━━━━━━━━━━━━━━━━━━━━━━━━━━━━━━━\u001b[0m \u001b[32m77.9/77.9 kB\u001b[0m \u001b[31m4.7 MB/s\u001b[0m eta \u001b[36m0:00:00\u001b[0m\n",
            "\u001b[2K   \u001b[90m━━━━━━━━━━━━━━━━━━━━━━━━━━━━━━━━━━━━━━━━\u001b[0m \u001b[32m318.9/318.9 kB\u001b[0m \u001b[31m16.7 MB/s\u001b[0m eta \u001b[36m0:00:00\u001b[0m\n",
            "\u001b[2K   \u001b[90m━━━━━━━━━━━━━━━━━━━━━━━━━━━━━━━━━━━━━━━━\u001b[0m \u001b[32m49.3/49.3 kB\u001b[0m \u001b[31m2.8 MB/s\u001b[0m eta \u001b[36m0:00:00\u001b[0m\n",
            "\u001b[2K   \u001b[90m━━━━━━━━━━━━━━━━━━━━━━━━━━━━━━━━━━━━━━━━\u001b[0m \u001b[32m141.9/141.9 kB\u001b[0m \u001b[31m8.4 MB/s\u001b[0m eta \u001b[36m0:00:00\u001b[0m\n",
            "\u001b[2K   \u001b[90m━━━━━━━━━━━━━━━━━━━━━━━━━━━━━━━━━━━━━━━━\u001b[0m \u001b[32m58.3/58.3 kB\u001b[0m \u001b[31m3.2 MB/s\u001b[0m eta \u001b[36m0:00:00\u001b[0m\n",
            "\u001b[?25h"
          ]
        }
      ],
      "source": [
        "%pip install --upgrade --quiet  json-repair networkx langchain-core langchain-openai langchain-experimental langchain-community"
      ]
    },
    {
      "cell_type": "markdown",
      "source": [
        "# Initialize your LLM object & reference text\n",
        "\n",
        "Use any SOTA chat LLM for best results as Knowledge Graph creation is a complicated task."
      ],
      "metadata": {
        "id": "a2jhP5or_7rb"
      }
    },
    {
      "cell_type": "code",
      "source": [
        "import os\n",
        "from pprint import pprint as pp\n",
        "from google.colab import userdata\n",
        "from langchain_experimental.graph_transformers import LLMGraphTransformer\n",
        "from langchain_openai import OpenAI, ChatOpenAI\n",
        "import networkx as nx\n",
        "from langchain.chains import GraphQAChain\n",
        "from langchain_core.documents import Document\n",
        "from langchain_community.graphs.networkx_graph import NetworkxEntityGraph\n",
        "\n",
        "\n",
        "os.environ[\"OPENAI_API_KEY\"] = userdata.get(\"OPENAI_API_KEY\")\n",
        "os.environ[\"LANGCHAIN_API_KEY\"] = userdata.get(\"LANGCHAIN_API_KEY\")\n",
        "os.environ[\"LANGCHAIN_TRACING_V2\"] = \"true\"\n",
        "os.environ[\"LANGCHAIN_PROJECT\"] = \"GraphRAG_101\"\n",
        "\n",
        "open_api_key = os.environ.get(\"OPEN_API_KEY\")\n",
        "langchain_api_key = os.environ.get(\"LANGCHAIN_API_KEY\")"
      ],
      "metadata": {
        "id": "dlChZKWs_JvB"
      },
      "execution_count": 2,
      "outputs": []
    },
    {
      "cell_type": "code",
      "source": [
        "llm = ChatOpenAI(model_name=\"gpt-4o-mini\", temperature=0, max_tokens=4000)\n",
        "# llm.client.api_type = \"chat\"\n",
        "\n",
        "text = \"\"\"\n",
        "Marie Curie, born in 1867, was a Polish and naturalised-French physicist and chemist who conducted pioneering research on radioactivity.\n",
        "She was the first woman to win a Nobel Prize, the first person to win a Nobel Prize twice, and the only person to win a Nobel Prize in two scientific fields.\n",
        "Her husband, Pierre Curie, was a co-winner of her first Nobel Prize, making them the first-ever married couple to win the Nobel Prize and launching the Curie family legacy of five Nobel Prizes.\n",
        "She was, in 1906, the first woman to become a professor at the University of Paris.\n",
        "\"\"\""
      ],
      "metadata": {
        "id": "ig758j9mCRr4"
      },
      "execution_count": 3,
      "outputs": []
    },
    {
      "cell_type": "markdown",
      "source": [
        "Load this text as `GraphDocuments` and create a `GraphTransformer` object using the LLM-loaded"
      ],
      "metadata": {
        "id": "SMWagcJGAPvh"
      }
    },
    {
      "cell_type": "code",
      "source": [
        "documents = [Document(page_content=text)]\n",
        "llm_transformer = LLMGraphTransformer(llm=llm)\n",
        "graph_documents = llm_transformer.convert_to_graph_documents(documents)"
      ],
      "metadata": {
        "id": "1LoloeXJ_QSz"
      },
      "execution_count": 4,
      "outputs": []
    },
    {
      "cell_type": "markdown",
      "source": [
        "# Create the Knowledge Graph.\n",
        "\n",
        "For this, you better provide a list of entities and relationships you wish to extract else LLM might identify everything as an entity or relationship"
      ],
      "metadata": {
        "id": "fgL_de4eGbOV"
      }
    },
    {
      "cell_type": "code",
      "source": [
        "llm_transformer_filtered = LLMGraphTransformer(\n",
        "    llm=llm,\n",
        "    allowed_nodes=[\"Person\", \"Country\", \"Organization\"],\n",
        "    allowed_relationships=[\"NATIONALITY\", \"LOCATED_IN\", \"WORKED_AT\", \"SPOUSE\"],\n",
        ")\n",
        "graph_documents_filtered = llm_transformer_filtered.convert_to_graph_documents(\n",
        "    documents\n",
        ")"
      ],
      "metadata": {
        "id": "nHYGzz4H_Tta"
      },
      "execution_count": 5,
      "outputs": []
    },
    {
      "cell_type": "markdown",
      "source": [
        "This creates a graph with nodes defined from `allowed_nodes` and relationships from `allowed_relationships`."
      ],
      "metadata": {
        "id": "lvuJW7-3HoY3"
      }
    },
    {
      "cell_type": "code",
      "source": [
        "pp(graph_documents_filtered[0].nodes)\n",
        "pp(graph_documents_filtered[0].relationships)"
      ],
      "metadata": {
        "colab": {
          "base_uri": "https://localhost:8080/"
        },
        "id": "HCXrABXIHgO_",
        "outputId": "598b5805-be1e-408c-da02-df728d90ff09"
      },
      "execution_count": 6,
      "outputs": [
        {
          "output_type": "stream",
          "name": "stdout",
          "text": [
            "[Node(id='Marie Curie', type='Person', properties={}),\n",
            " Node(id='Pierre Curie', type='Person', properties={}),\n",
            " Node(id='University Of Paris', type='Organization', properties={}),\n",
            " Node(id='Poland', type='Country', properties={}),\n",
            " Node(id='France', type='Country', properties={})]\n",
            "[Relationship(source=Node(id='Marie Curie', type='Person', properties={}), target=Node(id='Poland', type='Country', properties={}), type='NATIONALITY', properties={}),\n",
            " Relationship(source=Node(id='Marie Curie', type='Person', properties={}), target=Node(id='France', type='Country', properties={}), type='NATIONALITY', properties={}),\n",
            " Relationship(source=Node(id='Marie Curie', type='Person', properties={}), target=Node(id='Pierre Curie', type='Person', properties={}), type='SPOUSE', properties={}),\n",
            " Relationship(source=Node(id='Marie Curie', type='Person', properties={}), target=Node(id='University Of Paris', type='Organization', properties={}), type='WORKED_AT', properties={})]\n"
          ]
        }
      ]
    },
    {
      "cell_type": "markdown",
      "source": [
        "If you want an llm to define the graph nodes and relationships you can just pass the LLM object `llm` and let it discover the schema.\n",
        "\n",
        "This is great for discovering a graph when you are not familar with the data or schema. Be aware, the Graph schema can change for numerous reasons and you need to handle these possible changes accordingly."
      ],
      "metadata": {
        "id": "UzvxMUsPIBUG"
      }
    },
    {
      "cell_type": "code",
      "source": [
        "llm_transformer_discovered = LLMGraphTransformer(\n",
        "    llm=llm\n",
        ")\n",
        "graph_documents_discovered = llm_transformer_filtered.convert_to_graph_documents(\n",
        "    documents\n",
        ")"
      ],
      "metadata": {
        "id": "LRP5CemnIYZj"
      },
      "execution_count": 7,
      "outputs": []
    },
    {
      "cell_type": "code",
      "source": [
        "pp(graph_documents_discovered[0].nodes)\n",
        "pp(graph_documents_discovered[0].relationships)"
      ],
      "metadata": {
        "colab": {
          "base_uri": "https://localhost:8080/"
        },
        "id": "4fmS1-tqIh1j",
        "outputId": "6c70c18d-80b6-4529-c9fb-de51bb0ada69"
      },
      "execution_count": 8,
      "outputs": [
        {
          "output_type": "stream",
          "name": "stdout",
          "text": [
            "[Node(id='Marie Curie', type='Person', properties={}),\n",
            " Node(id='Pierre Curie', type='Person', properties={}),\n",
            " Node(id='Poland', type='Country', properties={}),\n",
            " Node(id='France', type='Country', properties={}),\n",
            " Node(id='University Of Paris', type='Organization', properties={})]\n",
            "[Relationship(source=Node(id='Marie Curie', type='Person', properties={}), target=Node(id='Poland', type='Country', properties={}), type='NATIONALITY', properties={}),\n",
            " Relationship(source=Node(id='Marie Curie', type='Person', properties={}), target=Node(id='France', type='Country', properties={}), type='NATIONALITY', properties={}),\n",
            " Relationship(source=Node(id='Marie Curie', type='Person', properties={}), target=Node(id='Pierre Curie', type='Person', properties={}), type='SPOUSE', properties={}),\n",
            " Relationship(source=Node(id='Marie Curie', type='Person', properties={}), target=Node(id='University Of Paris', type='Organization', properties={}), type='WORKED_AT', properties={})]\n"
          ]
        }
      ]
    },
    {
      "cell_type": "markdown",
      "source": [
        "# Create Networkx Graph"
      ],
      "metadata": {
        "id": "Or3eQMBRJlmI"
      }
    },
    {
      "cell_type": "code",
      "source": [
        "graph = NetworkxEntityGraph()\n",
        "\n",
        "# Add nodes to the graph\n",
        "for node in graph_documents_filtered[0].nodes:\n",
        "    graph.add_node(node.id)\n",
        "\n",
        "# Add edges to the graph\n",
        "for edge in graph_documents_filtered[0].relationships:\n",
        "    graph._graph.add_edge(\n",
        "            edge.source.id,\n",
        "            edge.target.id,\n",
        "            relation=edge.type,\n",
        "        )"
      ],
      "metadata": {
        "id": "5536YW2V_ZK3"
      },
      "execution_count": 9,
      "outputs": []
    },
    {
      "cell_type": "markdown",
      "source": [
        "# Create GraphQAChain"
      ],
      "metadata": {
        "id": "APOQvOS3qE4j"
      }
    },
    {
      "cell_type": "code",
      "source": [
        "chain = GraphQAChain.from_llm(\n",
        "    llm=llm,\n",
        "    graph=graph,\n",
        "    verbose=True\n",
        ")"
      ],
      "metadata": {
        "id": "zPsBs4Dl_akU"
      },
      "execution_count": 10,
      "outputs": []
    },
    {
      "cell_type": "code",
      "source": [
        "question = \"\"\"Who is Marie Curie?\"\"\"\n",
        "chain.run(question)"
      ],
      "metadata": {
        "colab": {
          "base_uri": "https://localhost:8080/",
          "height": 246
        },
        "id": "i_6xt8-B_ckS",
        "outputId": "931c389b-9f9b-462a-b284-09c4ca6ab95f"
      },
      "execution_count": 11,
      "outputs": [
        {
          "output_type": "stream",
          "name": "stderr",
          "text": [
            "<ipython-input-11-809f04d6222c>:2: LangChainDeprecationWarning: The method `Chain.run` was deprecated in langchain 0.1.0 and will be removed in 1.0. Use :meth:`~invoke` instead.\n",
            "  chain.run(question)\n",
            "WARNING:langchain_core.callbacks.manager:Error in StdOutCallbackHandler.on_chain_start callback: AttributeError(\"'NoneType' object has no attribute 'get'\")\n"
          ]
        },
        {
          "output_type": "stream",
          "name": "stdout",
          "text": [
            "Entities Extracted:\n",
            "\u001b[32;1m\u001b[1;3mMarie Curie\u001b[0m\n",
            "Full Context:\n",
            "\u001b[32;1m\u001b[1;3mMarie Curie NATIONALITY Poland\n",
            "Marie Curie NATIONALITY France\n",
            "Marie Curie SPOUSE Pierre Curie\n",
            "Marie Curie WORKED_AT University Of Paris\u001b[0m\n",
            "\n",
            "\u001b[1m> Finished chain.\u001b[0m\n"
          ]
        },
        {
          "output_type": "execute_result",
          "data": {
            "text/plain": [
              "'Marie Curie was a Polish and French scientist known for her pioneering research on radioactivity. She was married to Pierre Curie and worked at the University of Paris.'"
            ],
            "application/vnd.google.colaboratory.intrinsic+json": {
              "type": "string"
            }
          },
          "metadata": {},
          "execution_count": 11
        }
      ]
    },
    {
      "cell_type": "markdown",
      "source": [
        "# Using GraphIndexCreator\n",
        "\n",
        "Another approach is to use GraphIndexCreator in LangChain which is very similar to the above approach"
      ],
      "metadata": {
        "id": "PCGuvxmLqf0T"
      }
    },
    {
      "cell_type": "code",
      "source": [
        "from langchain.indexes import GraphIndexCreator\n",
        "from langchain.chains import GraphQAChain\n",
        "\n",
        "index_creator = GraphIndexCreator(llm=llm)\n",
        "graph = index_creator.from_text(text)\n",
        "\n",
        "chain = GraphQAChain.from_llm(llm, graph=graph, verbose=True)\n",
        "chain.run(\"What did Pierre Curie won?\")"
      ],
      "metadata": {
        "colab": {
          "base_uri": "https://localhost:8080/",
          "height": 160
        },
        "id": "vbQc22JA_fMb",
        "outputId": "550903f2-a1d1-4240-f769-0b991df29c5e"
      },
      "execution_count": 13,
      "outputs": [
        {
          "output_type": "stream",
          "name": "stderr",
          "text": [
            "WARNING:langchain_core.callbacks.manager:Error in StdOutCallbackHandler.on_chain_start callback: AttributeError(\"'NoneType' object has no attribute 'get'\")\n"
          ]
        },
        {
          "output_type": "stream",
          "name": "stdout",
          "text": [
            "Entities Extracted:\n",
            "\u001b[32;1m\u001b[1;3mPierre Curie\u001b[0m\n",
            "Full Context:\n",
            "\u001b[32;1m\u001b[1;3mPierre Curie was a co-winner of Marie Curie's first Nobel Prize\u001b[0m\n",
            "\n",
            "\u001b[1m> Finished chain.\u001b[0m\n"
          ]
        },
        {
          "output_type": "execute_result",
          "data": {
            "text/plain": [
              "'Pierre Curie won a Nobel Prize.'"
            ],
            "application/vnd.google.colaboratory.intrinsic+json": {
              "type": "string"
            }
          },
          "metadata": {},
          "execution_count": 13
        }
      ]
    },
    {
      "cell_type": "code",
      "source": [],
      "metadata": {
        "id": "uwLU6Pog_mlI"
      },
      "execution_count": null,
      "outputs": []
    }
  ]
}
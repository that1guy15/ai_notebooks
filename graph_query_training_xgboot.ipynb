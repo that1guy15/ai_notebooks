{
 "cells": [
  {
   "cell_type": "markdown",
   "id": "f721198b-3dfc-49e9-b893-f2d57ea253c4",
   "metadata": {},
   "source": [
    "In this notebook I explore the use of XGBoost to generate graphDB queries (Apstra QE) based on natural language input from users. \n",
    "\n",
    "## Outcomes:\n",
    "XGBoost is not built to handle generative tasks, but is better suited for classification and prediction tasks. \n",
    "With our usecase here, we can only have the model return a closest match query from the training. It will not be able to construct a new query. \n",
    "It is recommended to use a transformer or Seq2Seq model architecture. "
   ]
  },
  {
   "cell_type": "code",
   "execution_count": 1,
   "id": "c0e68eda-a68b-4a9a-9bde-51fa806e0e55",
   "metadata": {
    "tags": []
   },
   "outputs": [],
   "source": [
    "!pip install datasets huggingface_hub pandas xgboost --upgrade --quiet"
   ]
  },
  {
   "cell_type": "code",
   "execution_count": 2,
   "id": "c9c5f742-581a-46e6-886e-1458493db8b5",
   "metadata": {
    "tags": []
   },
   "outputs": [
    {
     "name": "stdout",
     "output_type": "stream",
     "text": [
      "sagemaker.config INFO - Not applying SDK defaults from location: /etc/xdg/sagemaker/config.yaml\n",
      "sagemaker.config INFO - Not applying SDK defaults from location: /home/ec2-user/.config/sagemaker/config.yaml\n"
     ]
    }
   ],
   "source": [
    "import os\n",
    "import boto3\n",
    "import s3fs\n",
    "import sagemaker\n",
    "from sagemaker.xgboost.estimator import XGBoost\n",
    "from sagemaker.session import Session\n",
    "from sagemaker.inputs import TrainingInput\n",
    "import xgboost as xgb"
   ]
  },
  {
   "cell_type": "markdown",
   "id": "16ee35eb-bdce-4b5c-aac7-d40b7f835260",
   "metadata": {},
   "source": [
    "## Load HuggingFace Dataset"
   ]
  },
  {
   "cell_type": "code",
   "execution_count": 3,
   "id": "1564f2ff-13fc-4bf7-a325-11adf35b71e0",
   "metadata": {
    "tags": []
   },
   "outputs": [
    {
     "data": {
      "application/vnd.jupyter.widget-view+json": {
       "model_id": "61f630659a484803b48b5dbb902bb745",
       "version_major": 2,
       "version_minor": 0
      },
      "text/plain": [
       "VBox(children=(HTML(value='<center> <img\\nsrc=https://huggingface.co/front/assets/huggingface_logo-noborder.sv…"
      ]
     },
     "metadata": {},
     "output_type": "display_data"
    }
   ],
   "source": [
    "from datasets import load_dataset\n",
    "from huggingface_hub import notebook_login\n",
    "\n",
    "notebook_login()\n"
   ]
  },
  {
   "cell_type": "markdown",
   "id": "c3272193-fa04-4113-8d66-e42838408f22",
   "metadata": {},
   "source": [
    "## Initialize the SageMaker session"
   ]
  },
  {
   "cell_type": "code",
   "execution_count": 4,
   "id": "7cb1933f-ce88-4882-86d4-99e63d9d5954",
   "metadata": {},
   "outputs": [],
   "source": [
    "sagemaker_session = sagemaker.Session()"
   ]
  },
  {
   "cell_type": "code",
   "execution_count": 36,
   "id": "6154721e-2e84-4b64-8ae6-b60c483685be",
   "metadata": {
    "tags": []
   },
   "outputs": [
    {
     "data": {
      "application/vnd.jupyter.widget-view+json": {
       "model_id": "4aaf0b37722c41c58cd2b2d891c82c4b",
       "version_major": 2,
       "version_minor": 0
      },
      "text/plain": [
       "Downloading readme:   0%|          | 0.00/300 [00:00<?, ?B/s]"
      ]
     },
     "metadata": {},
     "output_type": "display_data"
    },
    {
     "data": {
      "application/vnd.jupyter.widget-view+json": {
       "model_id": "d6b02a62758240dd9f0db5919c38ca9f",
       "version_major": 2,
       "version_minor": 0
      },
      "text/plain": [
       "Downloading data:   0%|          | 0.00/5.41k [00:00<?, ?B/s]"
      ]
     },
     "metadata": {},
     "output_type": "display_data"
    },
    {
     "data": {
      "application/vnd.jupyter.widget-view+json": {
       "model_id": "2fbf72f047964e06b1b3db122c60a057",
       "version_major": 2,
       "version_minor": 0
      },
      "text/plain": [
       "Generating train split:   0%|          | 0/35 [00:00<?, ? examples/s]"
      ]
     },
     "metadata": {},
     "output_type": "display_data"
    }
   ],
   "source": [
    "hg_source_dataset = 'deepwaters/apstra-qe-queries'\n",
    "dataset = load_dataset(hg_source_dataset, split='train')"
   ]
  },
  {
   "cell_type": "code",
   "execution_count": 37,
   "id": "86dcb62c-702d-4b3c-a5b4-b124a51a10ab",
   "metadata": {
    "tags": []
   },
   "outputs": [
    {
     "name": "stdout",
     "output_type": "stream",
     "text": [
      "(35, 2)\n",
      "['label', 'query']\n",
      "{'label': \"get all links in the fabric belonging to the routing-zone 'blue'\", 'query': \"match(node('system', role='spine', deploy_mode='deploy').out('hosted_interfaces').node('interface', name='leaf_intf').out('link').node('link', role='spine_leaf').in_('link').node('interface').in_('hosted_interfaces').node('system', role='leaf'),node(name='leaf_intf').in_('member_interfaces').node('sz_instance').in_('instantiated_by').node('security_zone', vrf_name='blue')\"}\n"
     ]
    }
   ],
   "source": [
    "print(dataset.shape)\n",
    "print(dataset.column_names)\n",
    "print(dataset[0])"
   ]
  },
  {
   "cell_type": "markdown",
   "id": "9643a193-6730-4d84-9a68-e44cda23ef44",
   "metadata": {},
   "source": [
    "## Pre-proccess: Vectorize data for XGBoost\n",
    "\n",
    "Given your goal to predict the \"query\" based on the \"label\" input: \n",
    "* Target Variable: \"query\"\n",
    "* Input Features: \"label\"\n"
   ]
  },
  {
   "cell_type": "markdown",
   "id": "e25e4351-47f3-471b-bd4a-30dd3be1237a",
   "metadata": {},
   "source": [
    "## organize and clean dataset"
   ]
  },
  {
   "cell_type": "code",
   "execution_count": 46,
   "id": "b1206a0e-d6ac-47f0-a3ab-1e5c5831a858",
   "metadata": {
    "tags": []
   },
   "outputs": [],
   "source": [
    "import pandas as pd\n",
    "from sklearn.feature_extraction.text import TfidfVectorizer\n",
    "from sklearn.preprocessing import OneHotEncoder\n",
    "from scipy.sparse import hstack\n",
    "from sklearn.model_selection import train_test_split\n",
    "\n",
    "# Load dataset\n",
    "df = pd.DataFrame(dataset)\n",
    "\n",
    "# Drop rows with missing values\n",
    "df.dropna(subset=['query', 'label'], inplace=True)\n",
    "\n",
    "# TF-IDF Vectorization\n",
    "tfidf_vectorizer = TfidfVectorizer(max_features=1000)\n",
    "query_tfidf = tfidf_vectorizer.fit_transform(df['query'])\n",
    "\n",
    "# One-hot encoding\n",
    "onehot_encoder = OneHotEncoder()\n",
    "label_encoded = onehot_encoder.fit_transform(df[['label']]).toarray()\n",
    "\n",
    "# Combine features\n",
    "features = hstack([query_tfidf, label_encoded])\n",
    "\n",
    "# Convert to DataFrame\n",
    "# Assuming the first column 'label' needs to be integer-encoded\n",
    "labels = onehot_encoder.categories_[0].searchsorted(df['label'])\n",
    "full_dataset = pd.DataFrame(features.todense())\n",
    "full_dataset.insert(0, 'label', labels)\n",
    "\n",
    "# Split dataset into training and testing\n",
    "train_df, test_df = train_test_split(full_dataset, test_size=0.2, random_state=42)\n"
   ]
  },
  {
   "cell_type": "code",
   "execution_count": 47,
   "id": "c293efdb-5d1e-4954-8965-cb2e1ba3d38e",
   "metadata": {
    "tags": []
   },
   "outputs": [],
   "source": [
    "## save to csv\n",
    "train_df.to_csv('train.csv', header=False, index=False)\n",
    "test_df.to_csv('test.csv', header=False, index=False)"
   ]
  },
  {
   "cell_type": "markdown",
   "id": "87379e7e-ffb5-4b30-a6b5-034162fd1425",
   "metadata": {},
   "source": [
    "## Load dataset to S3 for SageMaker usage\n",
    "For now, there is only a training split so we will use it for both train and test datasets.\n",
    "#TODO: create a test split"
   ]
  },
  {
   "cell_type": "code",
   "execution_count": 59,
   "id": "9ee317bc-9d84-4042-bb49-83e85c1feda2",
   "metadata": {
    "tags": []
   },
   "outputs": [
    {
     "name": "stdout",
     "output_type": "stream",
     "text": [
      "Dataset deepwaters/apstra-qe-queries saved to S3 bucket s3://sagemaker-us-west-1-983186512003/train/train.csv\n",
      "Dataset deepwaters/apstra-qe-queries saved to S3 bucket s3://sagemaker-us-west-1-983186512003/test/test.csv\n"
     ]
    }
   ],
   "source": [
    "bucket = sagemaker_session.default_bucket()\n",
    "\n",
    "s3 = boto3.client('s3')\n",
    "s3.upload_file('train.csv', bucket, 'train/train.csv')\n",
    "s3.upload_file('test.csv', bucket, 'test/test.csv')\n",
    "\n",
    "\n",
    "# Define the S3 paths\n",
    "train_s3_path = f\"s3://{bucket}/train/train.csv\"\n",
    "test_s3_path = f\"s3://{bucket}/test/test.csv\"\n",
    "\n",
    "\n",
    "\n",
    "print(f\"Dataset {hg_source_dataset} saved to S3 bucket {train_s3_path}\")\n",
    "print(f\"Dataset {hg_source_dataset} saved to S3 bucket {test_s3_path}\")"
   ]
  },
  {
   "cell_type": "code",
   "execution_count": 52,
   "id": "8ed6a4be-8506-4b8f-a098-15030d27d481",
   "metadata": {
    "tags": []
   },
   "outputs": [
    {
     "name": "stdout",
     "output_type": "stream",
     "text": [
      "b'22,0.0,0.0,0.0,0.0,0.0,0.0,0.0,0.0,0.0,0.0,0.0,0.0,0.0,0.0,0.0,0.0,0.0,0.0,0.0,0.0,0.0,0.0,0.0,0.0,0.0,0.0,0.0,0.0,0.0,0.0,0.0,0.0,0.0,0.0,0.0,0.21361745475479457,0.0,0.0,0.0,0.3641665482804358,0.0,0.0,0.1808502265564514,0.0,0.0,0.0,0.0,0.0,0.0,0.0,0.0,0.21361745475479457,0.0,0.0,0.38570175448168215,0.0,0.0,0.0,0.0,0.0,0.0,0.11390083476208064,0.0,0.0,0.22780166952416128,0.0,0.0,0.34170250428624194,0.0,0.0,0.32016729808499567,0.0,0.0,0.0,0.0,0.0,0.0,0.0,0.0,0.0,0.0,0.0,0.0,0.3108679795799754,0.0,0.0,0.0,0.0,0.0,0.0,0.0,0.3641665482804358,0.0,0.0,0.0,0.0,0.2850515158620618,0.0,0.0,0.0,0.0,0.0,0.0,0.0,0.0,0.0,0.0,0.0,0.0,0.0,0.0,0.0,0.0,0.0,0.0,0.0,0.0,0.0,0.0,0.0,0.0,0.0,0.0,0.0,0.0,0.0,0.0,0.0,0.0,0.0,0.0,0.0,0.0,0.0,0.0,0.0,0.0,1.0,0.0,0.0,0.0,0.0,0.0,0.0,0.0,0.0,0.0,0.0,0.0\\n'\n",
      "b'25,0.0,0.0,0.0,0.0,0.0,0.0,0.0,0.0,0.0,0.0,0.0,0.0,0.0,0.0,0.0,0.0,0.0,0.3887043107411136,0.0,0.0,0.0,0.0,0.5830564661116705,0.0,0.0,0.0,0.0,0.0,0.0,0.0,0.0,0.0,0.0,0.0,0.0,0.0,0.0,0.0,0.0,0.0,0.0,0.0,0.0,0.423679414610142,0.0,0.0,0.0,0.0,0.2364870274360931,0.0,0.16970483523953475,0.0,0.0,0.0,0.0,0.0,0.0,0.0,0.0,0.0,0.2364870274360931,0.0607877709774401,0.0,0.0,0.1215755419548802,0.0,0.0,0.1823633129323203,0.0,0.0,0.17087018221692438,0.0,0.0,0.0,0.0,0.0,0.0,0.0,0.0,0.0,0.0,0.0,0.0,0.0,0.0,0.0,0.0,0.0,0.0,0.2364870274360931,0.0,0.0,0.0,0.0,0.0,0.0,0.15212922977421223,0.0,0.0,0.0,0.0,0.0,0.0,0.0,0.0,0.0,0.0,0.0,0.0,0.0,0.0,0.0,0.0,0.16970483523953475,0.0,0.0,0.0,0.0,0.0,0.0,0.0,0.0,0.0,0.0,0.0,0.0,0.0,0.0,0.0,0.0,0.0,0.0,0.0,0.0,0.0,0.0,0.0,0.0,0.0,0.0,1.0,0.0,0.0,0.0,0.0,0.0,0.0,0.0,0.0\\n'\n",
      "b'10,0.0,0.0,0.0,0.0,0.0,0.0,0.0,0.0,0.0,0.0,0.0,0.0,0.0,0.0,0.0,0.0,0.0,0.0,0.0,0.0,0.0,0.0,0.0,0.0,0.0,0.0,0.0,0.4083436756853719,0.0,0.0,0.0,0.0,0.0,0.4083436756853719,0.0,0.0,0.0,0.0,0.0,0.0,0.0,0.0,0.0,0.0,0.0,0.0,0.0,0.0,0.0,0.0,0.0,0.0,0.0,0.0,0.26212603854085537,0.0,0.0,0.0,0.0,0.0,0.0,0.1548158609898089,0.0,0.0,0.1548158609898089,0.0,0.0,0.1548158609898089,0.0,0.0,0.0,0.0,0.0,0.0,0.0,0.0,0.0,0.0,0.0,0.0,0.0,0.0,0.0,0.2112683985739258,0.0,0.0,0.0,0.0,0.0,0.0,0.0,0.0,0.0,0.0,0.0,0.0,0.0,0.0,0.0,0.0,0.0,0.0,0.0,0.31250658764951267,0.31250658764951267,0.31250658764951267,0.31250658764951267,0.30103349813432545,0.0,0.0,0.0,0.0,0.0,0.0,0.0,0.0,0.0,0.0,0.0,0.0,0.0,0.0,0.0,0.0,0.0,1.0,0.0,0.0,0.0,0.0,0.0,0.0,0.0,0.0,0.0,0.0,0.0,0.0,0.0,0.0,0.0,0.0,0.0,0.0,0.0,0.0,0.0,0.0,0.0\\n'\n",
      "b'28,0.0,0.0,0.0,0.0,0.0,0.0,0.0,0.25847759963780004,0.0,0.0,0.0,0.0,0.0,0.22569802931184035,0.0,0.0,0.0,0.0,0.0,0.5169551992756001,0.0,0.25847759963780004,0.0,0.0,0.0,0.0,0.0,0.0,0.25847759963780004,0.0,0.0,0.0,0.0,0.0,0.0,0.15162108438152225,0.0,0.0,0.18440065470748196,0.0,0.0,0.0,0.12836360910960476,0.0,0.0,0.0,0.0,0.0,0.0,0.0,0.0,0.0,0.0,0.0,0.0,0.0,0.0,0.0,0.22569802931184035,0.0,0.0,0.08084436779012619,0.0,0.0,0.2425331033703786,0.0,0.0,0.2425331033703786,0.0,0.0,0.22724787623217182,0.0,0.0,0.0,0.0,0.0,0.0,0.0,0.0,0.0,0.0,0.0,0.0,0.1103237097771639,0.2817350749097176,0.0,0.0,0.2817350749097176,0.0,0.0,0.0,0.0,0.0,0.0,0.0,0.0,0.10116172386103306,0.0,0.0,0.0,0.0,0.0,0.0,0.0,0.0,0.0,0.0,0.0,0.0,0.0,0.0,0.0,0.0,0.0,0.0,0.0,0.0,0.0,0.0,0.0,0.0,0.0,0.0,0.0,0.0,0.0,0.0,0.0,0.0,0.0,0.0,0.0,0.0,0.0,0.0,0.0,0.0,0.0,0.0,0.0,0.0,0.0,0.0,1.0,0.0,0.0,0.0,0.0,0.0\\n'\n",
      "b'30,0.43424026590570974,0.0,0.0,0.0,0.0,0.0,0.0,0.0,0.0,0.0,0.0,0.0,0.0,0.31161401781251835,0.0,0.0,0.0,0.0,0.0,0.0,0.0,0.0,0.0,0.0,0.0,0.0,0.0,0.0,0.0,0.0,0.0,0.0,0.0,0.0,0.0,0.0,0.43424026590570974,0.0,0.0,0.0,0.0,0.0,0.0,0.0,0.0,0.0,0.0,0.0,0.0,0.0,0.0,0.20933835990183536,0.0,0.0,0.0,0.0,0.0,0.0,0.0,0.0,0.0,0.11161922122849725,0.0,0.0,0.11161922122849725,0.0,0.0,0.2232384424569945,0.0,0.0,0.15687692083085902,0.0,0.0,0.0,0.38898256630334804,0.0,0.0,0.0,0.0,0.0,0.0,0.43424026590570974,0.0,0.15232040159351418,0.0,0.0,0.0,0.0,0.0,0.0,0.0,0.0,0.0,0.0,0.0,0.0,0.13967074199669702,0.0,0.0,0.0,0.0,0.0,0.0,0.0,0.0,0.0,0.0,0.0,0.0,0.0,0.0,0.0,0.0,0.0,0.0,0.0,0.0,0.0,0.0,0.0,0.0,0.0,0.0,0.0,0.0,0.0,0.0,0.0,0.0,0.0,0.0,0.0,0.0,0.0,0.0,0.0,0.0,0.0,0.0,0.0,0.0,0.0,0.0,0.0,0.0,1.0,0.0,0.0,0.0\\n'\n"
     ]
    }
   ],
   "source": [
    "with open('train.csv', 'rb') as file:\n",
    "    for i in range(5):\n",
    "        print(file.readline())"
   ]
  },
  {
   "cell_type": "markdown",
   "id": "409d4d24-f7de-4489-90e8-996ca07d2399",
   "metadata": {},
   "source": [
    "## Create the XGBoost estimator"
   ]
  },
  {
   "cell_type": "code",
   "execution_count": 54,
   "id": "b1129717-42bc-4bc6-b706-94d37862ce8e",
   "metadata": {
    "tags": []
   },
   "outputs": [],
   "source": [
    "hyperparameters = {\n",
    "        \"max_depth\":\"5\",\n",
    "        \"eta\":\"0.2\",\n",
    "        \"gamma\":\"4\",\n",
    "        \"min_child_weight\":\"6\",\n",
    "        \"subsample\":\"0.7\",\n",
    "        \"objective\":\"reg:squarederror\",\n",
    "        \"num_round\":\"50\",\n",
    "        \"verbosity\": \"2\",\n",
    "}\n",
    "\n",
    "# Instance type used for training\n",
    "ec2_instance_type = \"ml.m5.2xlarge\""
   ]
  },
  {
   "cell_type": "code",
   "execution_count": 61,
   "id": "2cd776d5-8fc7-42a3-bd89-39c6bd0f1535",
   "metadata": {
    "tags": []
   },
   "outputs": [
    {
     "name": "stderr",
     "output_type": "stream",
     "text": [
      "INFO:sagemaker.image_uris:Ignoring unnecessary instance type: None.\n"
     ]
    }
   ],
   "source": [
    "# set an output path where the trained model will be saved\n",
    "prefix = 'graph-query-xgboost'\n",
    "output_path = f\"s3://{bucket}/{prefix}/abalone-dist-xgb/output\"\n",
    "\n",
    "xgboost_container = sagemaker.image_uris.retrieve(\"xgboost\", 'us-west-1', \"1.7-1\")\n",
    "\n",
    "# construct a SageMaker XGBoost estimator\n",
    "# specify the entry_point to your xgboost training script\n",
    "estimator = sagemaker.estimator.Estimator(\n",
    "    image_uri=xgboost_container, \n",
    "    hyperparameters=hyperparameters,\n",
    "    role=sagemaker.get_execution_role(),\n",
    "    instance_count=1, \n",
    "    instance_type='ml.m5.large', \n",
    "    volume_size=5, # 5 GB \n",
    "    output_path=output_path\n",
    ")\n",
    "\n",
    "train_input = sagemaker.inputs.TrainingInput(s3_data=train_s3_path, content_type='csv')\n",
    "validation_input = sagemaker.inputs.TrainingInput(s3_data=test_s3_path, content_type='csv')"
   ]
  },
  {
   "cell_type": "markdown",
   "id": "c5ecd43c-2e49-4daf-ada6-45ce2386f681",
   "metadata": {},
   "source": [
    "# Train the Model\n",
    "## Start the training job"
   ]
  },
  {
   "cell_type": "code",
   "execution_count": 62,
   "id": "ba9865e4-9c55-4f12-9c6f-05688c4aa49e",
   "metadata": {
    "tags": []
   },
   "outputs": [
    {
     "name": "stderr",
     "output_type": "stream",
     "text": [
      "INFO:sagemaker:Creating training-job with name: sagemaker-xgboost-2024-06-14-17-25-33-316\n"
     ]
    },
    {
     "name": "stdout",
     "output_type": "stream",
     "text": [
      "2024-06-14 17:25:33 Starting - Starting the training job...\n",
      "2024-06-14 17:25:49 Starting - Preparing the instances for training...\n",
      "2024-06-14 17:26:15 Downloading - Downloading input data...\n",
      "2024-06-14 17:26:55 Downloading - Downloading the training image......\n",
      "2024-06-14 17:28:00 Training - Training image download completed. Training in progress..\u001b[34m[2024-06-14 17:28:05.920 ip-10-0-185-79.us-west-1.compute.internal:7 INFO utils.py:28] RULE_JOB_STOP_SIGNAL_FILENAME: None\u001b[0m\n",
      "\u001b[34m[2024-06-14 17:28:05.942 ip-10-0-185-79.us-west-1.compute.internal:7 INFO profiler_config_parser.py:111] User has disabled profiler.\u001b[0m\n",
      "\u001b[34m[2024-06-14:17:28:06:INFO] Imported framework sagemaker_xgboost_container.training\u001b[0m\n",
      "\u001b[34m[2024-06-14:17:28:06:INFO] Failed to parse hyperparameter objective value reg:squarederror to Json.\u001b[0m\n",
      "\u001b[34mReturning the value itself\u001b[0m\n",
      "\u001b[34m[2024-06-14:17:28:06:INFO] No GPUs detected (normal if no gpus installed)\u001b[0m\n",
      "\u001b[34m[2024-06-14:17:28:06:INFO] Running XGBoost Sagemaker in algorithm mode\u001b[0m\n",
      "\u001b[34m[2024-06-14:17:28:06:INFO] Determined 0 GPU(s) available on the instance.\u001b[0m\n",
      "\u001b[34m[2024-06-14:17:28:06:INFO] Determined delimiter of CSV input is ','\u001b[0m\n",
      "\u001b[34m[2024-06-14:17:28:06:INFO] Determined delimiter of CSV input is ','\u001b[0m\n",
      "\u001b[34m[2024-06-14:17:28:06:INFO] File path /opt/ml/input/data/train of input files\u001b[0m\n",
      "\u001b[34m[2024-06-14:17:28:06:INFO] Making smlinks from folder /opt/ml/input/data/train to folder /tmp/sagemaker_xgboost_input_data\u001b[0m\n",
      "\u001b[34m[2024-06-14:17:28:06:INFO] creating symlink between Path /opt/ml/input/data/train/train.csv and destination /tmp/sagemaker_xgboost_input_data/train.csv3690081156178127097\u001b[0m\n",
      "\u001b[34m[2024-06-14:17:28:06:INFO] files path: /tmp/sagemaker_xgboost_input_data\u001b[0m\n",
      "\u001b[34m[2024-06-14:17:28:06:INFO] Determined delimiter of CSV input is ','\u001b[0m\n",
      "\u001b[34m[2024-06-14:17:28:06:INFO] File path /opt/ml/input/data/validation of input files\u001b[0m\n",
      "\u001b[34m[2024-06-14:17:28:06:INFO] Making smlinks from folder /opt/ml/input/data/validation to folder /tmp/sagemaker_xgboost_input_data\u001b[0m\n",
      "\u001b[34m[2024-06-14:17:28:06:INFO] creating symlink between Path /opt/ml/input/data/validation/test.csv and destination /tmp/sagemaker_xgboost_input_data/test.csv-3597578814975384843\u001b[0m\n",
      "\u001b[34m[2024-06-14:17:28:06:INFO] files path: /tmp/sagemaker_xgboost_input_data\u001b[0m\n",
      "\u001b[34m[2024-06-14:17:28:06:INFO] Determined delimiter of CSV input is ','\u001b[0m\n",
      "\u001b[34m[2024-06-14:17:28:06:INFO] Single node training.\u001b[0m\n",
      "\u001b[34m[2024-06-14:17:28:06:INFO] Train matrix has 28 rows and 149 columns\u001b[0m\n",
      "\u001b[34m[2024-06-14:17:28:06:INFO] Validation matrix has 7 rows\u001b[0m\n",
      "\u001b[34m[2024-06-14 17:28:06.410 ip-10-0-185-79.us-west-1.compute.internal:7 INFO json_config.py:92] Creating hook from json_config at /opt/ml/input/config/debughookconfig.json.\u001b[0m\n",
      "\u001b[34m[2024-06-14 17:28:06.411 ip-10-0-185-79.us-west-1.compute.internal:7 INFO hook.py:206] tensorboard_dir has not been set for the hook. SMDebug will not be exporting tensorboard summaries.\u001b[0m\n",
      "\u001b[34m[2024-06-14 17:28:06.412 ip-10-0-185-79.us-west-1.compute.internal:7 INFO hook.py:259] Saving to /opt/ml/output/tensors\u001b[0m\n",
      "\u001b[34m[2024-06-14 17:28:06.412 ip-10-0-185-79.us-west-1.compute.internal:7 INFO state_store.py:77] The checkpoint config file /opt/ml/input/config/checkpointconfig.json does not exist.\u001b[0m\n",
      "\u001b[34m[2024-06-14:17:28:06:INFO] Debug hook created from config\u001b[0m\n",
      "\u001b[34m[17:28:06] INFO: ../src/tree/updater_prune.cc:98: tree pruning end, 2 extra nodes, 0 pruned nodes, max_depth=1\u001b[0m\n",
      "\u001b[34m[2024-06-14 17:28:06.438 ip-10-0-185-79.us-west-1.compute.internal:7 INFO hook.py:427] Monitoring the collections: metrics\u001b[0m\n",
      "\u001b[34m[2024-06-14 17:28:06.441 ip-10-0-185-79.us-west-1.compute.internal:7 INFO hook.py:491] Hook is writing from the hook with pid: 7\u001b[0m\n",
      "\u001b[34m[0]#011train-rmse:16.62682#011validation-rmse:13.59625\u001b[0m\n",
      "\u001b[34m[17:28:06] INFO: ../src/tree/updater_prune.cc:98: tree pruning end, 2 extra nodes, 0 pruned nodes, max_depth=1\u001b[0m\n",
      "\u001b[34m[1]#011train-rmse:14.06800#011validation-rmse:12.44765\u001b[0m\n",
      "\u001b[34m[17:28:06] INFO: ../src/tree/updater_prune.cc:98: tree pruning end, 4 extra nodes, 0 pruned nodes, max_depth=2\u001b[0m\n",
      "\u001b[34m[2]#011train-rmse:12.22685#011validation-rmse:12.42985\u001b[0m\n",
      "\u001b[34m[17:28:06] INFO: ../src/tree/updater_prune.cc:98: tree pruning end, 4 extra nodes, 0 pruned nodes, max_depth=2\u001b[0m\n",
      "\u001b[34m[3]#011train-rmse:10.88413#011validation-rmse:12.54335\u001b[0m\n",
      "\u001b[34m[17:28:06] INFO: ../src/tree/updater_prune.cc:98: tree pruning end, 4 extra nodes, 0 pruned nodes, max_depth=2\u001b[0m\n",
      "\u001b[34m[4]#011train-rmse:9.90454#011validation-rmse:12.85404\u001b[0m\n",
      "\u001b[34m[17:28:06] INFO: ../src/tree/updater_prune.cc:98: tree pruning end, 4 extra nodes, 0 pruned nodes, max_depth=2\u001b[0m\n",
      "\u001b[34m[5]#011train-rmse:8.91932#011validation-rmse:12.79802\u001b[0m\n",
      "\u001b[34m[17:28:06] INFO: ../src/tree/updater_prune.cc:98: tree pruning end, 2 extra nodes, 0 pruned nodes, max_depth=1\u001b[0m\n",
      "\u001b[34m[6]#011train-rmse:8.29063#011validation-rmse:12.91448\u001b[0m\n",
      "\u001b[34m[17:28:06] INFO: ../src/tree/updater_prune.cc:98: tree pruning end, 4 extra nodes, 0 pruned nodes, max_depth=2\u001b[0m\n",
      "\u001b[34m[7]#011train-rmse:8.04095#011validation-rmse:13.32757\u001b[0m\n",
      "\u001b[34m[17:28:06] INFO: ../src/tree/updater_prune.cc:98: tree pruning end, 4 extra nodes, 0 pruned nodes, max_depth=2\u001b[0m\n",
      "\u001b[34m[8]#011train-rmse:7.52275#011validation-rmse:13.83848\u001b[0m\n",
      "\u001b[34m[17:28:06] INFO: ../src/tree/updater_prune.cc:98: tree pruning end, 2 extra nodes, 0 pruned nodes, max_depth=1\u001b[0m\n",
      "\u001b[34m[9]#011train-rmse:7.22512#011validation-rmse:14.05357\u001b[0m\n",
      "\u001b[34m[17:28:06] INFO: ../src/tree/updater_prune.cc:98: tree pruning end, 4 extra nodes, 0 pruned nodes, max_depth=2\u001b[0m\n",
      "\u001b[34m[10]#011train-rmse:6.99712#011validation-rmse:14.52719\u001b[0m\n",
      "\u001b[34m[17:28:06] INFO: ../src/tree/updater_prune.cc:98: tree pruning end, 4 extra nodes, 0 pruned nodes, max_depth=2\u001b[0m\n",
      "\u001b[34m[11]#011train-rmse:6.92533#011validation-rmse:14.72186\u001b[0m\n",
      "\u001b[34m[17:28:06] INFO: ../src/tree/updater_prune.cc:98: tree pruning end, 4 extra nodes, 0 pruned nodes, max_depth=2\u001b[0m\n",
      "\u001b[34m[12]#011train-rmse:6.78729#011validation-rmse:14.86494\u001b[0m\n",
      "\u001b[34m[17:28:06] INFO: ../src/tree/updater_prune.cc:98: tree pruning end, 2 extra nodes, 2 pruned nodes, max_depth=1\u001b[0m\n",
      "\u001b[34m[13]#011train-rmse:6.65107#011validation-rmse:14.75010\u001b[0m\n",
      "\u001b[34m[17:28:06] INFO: ../src/tree/updater_prune.cc:98: tree pruning end, 4 extra nodes, 0 pruned nodes, max_depth=2\u001b[0m\n",
      "\u001b[34m[14]#011train-rmse:6.56097#011validation-rmse:14.78398\u001b[0m\n",
      "\u001b[34m[17:28:06] INFO: ../src/tree/updater_prune.cc:98: tree pruning end, 2 extra nodes, 0 pruned nodes, max_depth=1\u001b[0m\n",
      "\u001b[34m[15]#011train-rmse:6.52708#011validation-rmse:14.95099\u001b[0m\n",
      "\u001b[34m[17:28:06] INFO: ../src/tree/updater_prune.cc:98: tree pruning end, 4 extra nodes, 0 pruned nodes, max_depth=2\u001b[0m\n",
      "\u001b[34m[16]#011train-rmse:6.37406#011validation-rmse:14.73617\u001b[0m\n",
      "\u001b[34m[17:28:06] INFO: ../src/tree/updater_prune.cc:98: tree pruning end, 4 extra nodes, 0 pruned nodes, max_depth=2\u001b[0m\n",
      "\u001b[34m[17]#011train-rmse:6.28211#011validation-rmse:14.62207\u001b[0m\n",
      "\u001b[34m[17:28:06] INFO: ../src/tree/updater_prune.cc:98: tree pruning end, 4 extra nodes, 0 pruned nodes, max_depth=2\u001b[0m\n",
      "\u001b[34m[18]#011train-rmse:6.15731#011validation-rmse:14.82107\u001b[0m\n",
      "\u001b[34m[17:28:06] INFO: ../src/tree/updater_prune.cc:98: tree pruning end, 4 extra nodes, 0 pruned nodes, max_depth=2\u001b[0m\n",
      "\u001b[34m[19]#011train-rmse:6.05210#011validation-rmse:14.59788\u001b[0m\n",
      "\u001b[34m[17:28:06] INFO: ../src/tree/updater_prune.cc:98: tree pruning end, 2 extra nodes, 0 pruned nodes, max_depth=1\u001b[0m\n",
      "\u001b[34m[20]#011train-rmse:6.04954#011validation-rmse:14.56190\u001b[0m\n",
      "\u001b[34m[17:28:06] INFO: ../src/tree/updater_prune.cc:98: tree pruning end, 4 extra nodes, 0 pruned nodes, max_depth=2\u001b[0m\n",
      "\u001b[34m[21]#011train-rmse:6.00538#011validation-rmse:14.47513\u001b[0m\n",
      "\u001b[34m[17:28:06] INFO: ../src/tree/updater_prune.cc:98: tree pruning end, 4 extra nodes, 0 pruned nodes, max_depth=2\u001b[0m\n",
      "\u001b[34m[22]#011train-rmse:5.97516#011validation-rmse:14.57845\u001b[0m\n",
      "\u001b[34m[17:28:06] INFO: ../src/tree/updater_prune.cc:98: tree pruning end, 4 extra nodes, 0 pruned nodes, max_depth=2\u001b[0m\n",
      "\u001b[34m[23]#011train-rmse:5.87889#011validation-rmse:14.39193\u001b[0m\n",
      "\u001b[34m[17:28:06] INFO: ../src/tree/updater_prune.cc:98: tree pruning end, 4 extra nodes, 0 pruned nodes, max_depth=2\u001b[0m\n",
      "\u001b[34m[24]#011train-rmse:5.76932#011validation-rmse:14.36833\u001b[0m\n",
      "\u001b[34m[17:28:06] INFO: ../src/tree/updater_prune.cc:98: tree pruning end, 4 extra nodes, 0 pruned nodes, max_depth=2\u001b[0m\n",
      "\u001b[34m[25]#011train-rmse:5.72041#011validation-rmse:14.64722\u001b[0m\n",
      "\u001b[34m[17:28:06] INFO: ../src/tree/updater_prune.cc:98: tree pruning end, 2 extra nodes, 0 pruned nodes, max_depth=1\u001b[0m\n",
      "\u001b[34m[26]#011train-rmse:5.72030#011validation-rmse:14.61274\u001b[0m\n",
      "\u001b[34m[17:28:06] INFO: ../src/tree/updater_prune.cc:98: tree pruning end, 2 extra nodes, 0 pruned nodes, max_depth=1\u001b[0m\n",
      "\u001b[34m[27]#011train-rmse:5.70246#011validation-rmse:14.48032\u001b[0m\n",
      "\u001b[34m[17:28:06] INFO: ../src/tree/updater_prune.cc:98: tree pruning end, 4 extra nodes, 0 pruned nodes, max_depth=2\u001b[0m\n",
      "\u001b[34m[28]#011train-rmse:5.62810#011validation-rmse:14.54018\u001b[0m\n",
      "\u001b[34m[17:28:06] INFO: ../src/tree/updater_prune.cc:98: tree pruning end, 4 extra nodes, 0 pruned nodes, max_depth=2\u001b[0m\n",
      "\u001b[34m[29]#011train-rmse:5.60770#011validation-rmse:14.72708\u001b[0m\n",
      "\u001b[34m[17:28:06] INFO: ../src/tree/updater_prune.cc:98: tree pruning end, 4 extra nodes, 0 pruned nodes, max_depth=2\u001b[0m\n",
      "\u001b[34m[30]#011train-rmse:5.59890#011validation-rmse:14.81515\u001b[0m\n",
      "\u001b[34m[17:28:06] INFO: ../src/tree/updater_prune.cc:98: tree pruning end, 2 extra nodes, 0 pruned nodes, max_depth=1\u001b[0m\n",
      "\u001b[34m[31]#011train-rmse:5.54505#011validation-rmse:14.52741\u001b[0m\n",
      "\u001b[34m[17:28:06] INFO: ../src/tree/updater_prune.cc:98: tree pruning end, 2 extra nodes, 0 pruned nodes, max_depth=1\u001b[0m\n",
      "\u001b[34m[32]#011train-rmse:5.45452#011validation-rmse:14.64779\u001b[0m\n",
      "\u001b[34m[17:28:06] INFO: ../src/tree/updater_prune.cc:98: tree pruning end, 2 extra nodes, 0 pruned nodes, max_depth=1\u001b[0m\n",
      "\u001b[34m[33]#011train-rmse:5.45007#011validation-rmse:14.52246\u001b[0m\n",
      "\u001b[34m[17:28:06] INFO: ../src/tree/updater_prune.cc:98: tree pruning end, 2 extra nodes, 0 pruned nodes, max_depth=1\u001b[0m\n",
      "\u001b[34m[34]#011train-rmse:5.43210#011validation-rmse:14.43184\u001b[0m\n",
      "\u001b[34m[17:28:06] INFO: ../src/tree/updater_prune.cc:98: tree pruning end, 2 extra nodes, 0 pruned nodes, max_depth=1\u001b[0m\n",
      "\u001b[34m[35]#011train-rmse:5.44072#011validation-rmse:14.64289\u001b[0m\n",
      "\u001b[34m[17:28:06] INFO: ../src/tree/updater_prune.cc:98: tree pruning end, 4 extra nodes, 0 pruned nodes, max_depth=2\u001b[0m\n",
      "\u001b[34m[36]#011train-rmse:5.32923#011validation-rmse:14.78725\u001b[0m\n",
      "\u001b[34m[17:28:06] INFO: ../src/tree/updater_prune.cc:98: tree pruning end, 4 extra nodes, 0 pruned nodes, max_depth=2\u001b[0m\n",
      "\u001b[34m[37]#011train-rmse:5.26678#011validation-rmse:14.85541\u001b[0m\n",
      "\u001b[34m[17:28:06] INFO: ../src/tree/updater_prune.cc:98: tree pruning end, 2 extra nodes, 0 pruned nodes, max_depth=1\u001b[0m\n",
      "\u001b[34m[38]#011train-rmse:5.24911#011validation-rmse:14.79516\u001b[0m\n",
      "\u001b[34m[17:28:06] INFO: ../src/tree/updater_prune.cc:98: tree pruning end, 4 extra nodes, 0 pruned nodes, max_depth=2\u001b[0m\n",
      "\u001b[34m[39]#011train-rmse:5.20095#011validation-rmse:14.59906\u001b[0m\n",
      "\u001b[34m[17:28:06] INFO: ../src/tree/updater_prune.cc:98: tree pruning end, 4 extra nodes, 0 pruned nodes, max_depth=2\u001b[0m\n",
      "\u001b[34m[40]#011train-rmse:5.19432#011validation-rmse:14.75040\u001b[0m\n",
      "\u001b[34m[17:28:06] INFO: ../src/tree/updater_prune.cc:98: tree pruning end, 2 extra nodes, 0 pruned nodes, max_depth=1\u001b[0m\n",
      "\u001b[34m[41]#011train-rmse:5.15778#011validation-rmse:14.46217\u001b[0m\n",
      "\u001b[34m[17:28:06] INFO: ../src/tree/updater_prune.cc:98: tree pruning end, 2 extra nodes, 0 pruned nodes, max_depth=1\u001b[0m\n",
      "\u001b[34m[42]#011train-rmse:5.14616#011validation-rmse:14.28674\u001b[0m\n",
      "\u001b[34m[17:28:06] INFO: ../src/tree/updater_prune.cc:98: tree pruning end, 2 extra nodes, 0 pruned nodes, max_depth=1\u001b[0m\n",
      "\u001b[34m[43]#011train-rmse:5.12618#011validation-rmse:14.26656\u001b[0m\n",
      "\u001b[34m[17:28:06] INFO: ../src/tree/updater_prune.cc:98: tree pruning end, 2 extra nodes, 0 pruned nodes, max_depth=1\u001b[0m\n",
      "\u001b[34m[44]#011train-rmse:5.11973#011validation-rmse:14.05471\u001b[0m\n",
      "\u001b[34m[17:28:06] INFO: ../src/tree/updater_prune.cc:98: tree pruning end, 4 extra nodes, 0 pruned nodes, max_depth=2\u001b[0m\n",
      "\u001b[34m[45]#011train-rmse:5.11465#011validation-rmse:14.11774\u001b[0m\n",
      "\u001b[34m[17:28:06] INFO: ../src/tree/updater_prune.cc:98: tree pruning end, 2 extra nodes, 0 pruned nodes, max_depth=1\u001b[0m\n",
      "\u001b[34m[46]#011train-rmse:5.11539#011validation-rmse:14.14033\u001b[0m\n",
      "\u001b[34m[17:28:06] INFO: ../src/tree/updater_prune.cc:98: tree pruning end, 2 extra nodes, 0 pruned nodes, max_depth=1\u001b[0m\n",
      "\u001b[34m[47]#011train-rmse:5.05808#011validation-rmse:14.10447\u001b[0m\n",
      "\u001b[34m[17:28:06] INFO: ../src/tree/updater_prune.cc:98: tree pruning end, 4 extra nodes, 0 pruned nodes, max_depth=2\u001b[0m\n",
      "\u001b[34m[48]#011train-rmse:5.01493#011validation-rmse:13.86521\u001b[0m\n",
      "\u001b[34m[17:28:06] INFO: ../src/tree/updater_prune.cc:98: tree pruning end, 4 extra nodes, 0 pruned nodes, max_depth=2\u001b[0m\n",
      "\u001b[34m[49]#011train-rmse:4.97561#011validation-rmse:13.90579\u001b[0m\n",
      "\n",
      "2024-06-14 17:28:23 Uploading - Uploading generated training model\n",
      "2024-06-14 17:28:23 Completed - Training job completed\n",
      "Training seconds: 129\n",
      "Billable seconds: 129\n"
     ]
    }
   ],
   "source": [
    "estimator.fit({'train': train_input, 'validation': validation_input})"
   ]
  },
  {
   "cell_type": "markdown",
   "id": "43cc6a36-f41f-42c9-bdc5-ad25674f6bf3",
   "metadata": {},
   "source": [
    "## Deploy the model for inference"
   ]
  },
  {
   "cell_type": "code",
   "execution_count": 70,
   "id": "189b2534-8c1e-4e9e-8c47-787d51a04124",
   "metadata": {},
   "outputs": [
    {
     "name": "stderr",
     "output_type": "stream",
     "text": [
      "INFO:sagemaker:Creating model with name: sagemaker-xgboost-2024-06-14-18-08-56-730\n",
      "INFO:sagemaker:Creating endpoint-config with name sagemaker-xgboost-2024-06-14-18-08-56-730\n",
      "INFO:sagemaker:Creating endpoint with name sagemaker-xgboost-2024-06-14-18-08-56-730\n"
     ]
    },
    {
     "name": "stdout",
     "output_type": "stream",
     "text": [
      "------!"
     ]
    }
   ],
   "source": [
    "xgb_predictor = estimator.deploy(initial_instance_count=1, instance_type=ec2_instance_type)\n",
    "\n",
    "# Ensure that the endpoint is deployed with the correct configuration\n",
    "xgb_predictor.serializer = sagemaker.serializers.CSVSerializer()\n",
    "xgb_predictor.deserializer = sagemaker.deserializers.JSONDeserializer()"
   ]
  },
  {
   "cell_type": "markdown",
   "id": "0ff1a8d9-e5bb-4e5e-a9a8-17c15e01f872",
   "metadata": {},
   "source": [
    "## Make Predictions"
   ]
  },
  {
   "cell_type": "code",
   "execution_count": 83,
   "id": "ca24ec12-4850-427f-90dd-acd90ea0ec1f",
   "metadata": {
    "tags": []
   },
   "outputs": [],
   "source": [
    "def make_prediction(input_text: str):\n",
    "    input_text = [input_text]\n",
    "    input_tfidf = tfidf_vectorizer.transform(input_text)\n",
    "    input_features = input_tfidf\n",
    "\n",
    "    input_features_dense = input_features.todense()\n",
    "    input_csv = ','.join([str(i) for i in np.squeeze(np.asarray(input_features_dense))])\n",
    "\n",
    "    # Making the prediction\n",
    "    prediction = xgb_predictor.predict(input_csv)\n",
    "    return prediction[\"predictions\"][0][\"score\"]"
   ]
  },
  {
   "cell_type": "code",
   "execution_count": 104,
   "id": "21b1087c-dd14-4f43-95ac-3b17e211f364",
   "metadata": {
    "tags": []
   },
   "outputs": [
    {
     "name": "stdout",
     "output_type": "stream",
     "text": [
      "                                                label  \\\n",
      "0   get all links in the fabric belonging to the r...   \n",
      "1                   Get all leafs and access switches   \n",
      "2                          Return all fabric switches   \n",
      "3   Get all active interfaces in vrf 'NCP' on all ...   \n",
      "4   Find associated loopbacks on all switches in V...   \n",
      "5                  Get all managed devices (any role)   \n",
      "6   Get all external systems with a list of tags '...   \n",
      "7       Get all managed devices of a given ASIC model   \n",
      "8           Get all managed devices of a given vendor   \n",
      "9   Get the BGP peering domain of an external rout...   \n",
      "10  Find all MLAG peer-link interfaces on leaf swi...   \n",
      "11  Get external links with the following list of ...   \n",
      "12      Get all links between leaf and spine switches   \n",
      "13                              get all logical VTEPs   \n",
      "14  Get all internal links with a list of tags '['...   \n",
      "15  Get all interfaces used for BGP peering with t...   \n",
      "16  Get all external links with a tag in '['tag1',...   \n",
      "17  Get all internal interfaces with a tag in '['t...   \n",
      "18              Return all top-of-rack (TOR) switches   \n",
      "19  Get all internal systems with a list of tags '...   \n",
      "20  Get all BGP peering details for VRF 'sz' betwe...   \n",
      "21                                  Get all ESI Links   \n",
      "22  Get all internal systems with a tag in '['tag1...   \n",
      "23  Get all internal interfaces with a list of tag...   \n",
      "24  Find the switch node with IP address '172.16.0...   \n",
      "25  Get all internal links with a tag in '['tag1',...   \n",
      "26     Find all non-lag interfaces on switch 'switch1   \n",
      "27      Get all managed devices of a given ASIC model   \n",
      "28  Get all external interfaces with a tag in '['t...   \n",
      "29  Get all external interfaces with the list of t...   \n",
      "30                                  Get all ESI links   \n",
      "31  Get all external systems with a tag in '['tag1...   \n",
      "32  Get all non-fabric interfaces (Generic Systems...   \n",
      "33  Return all redundancy groups that contain a sw...   \n",
      "34                          Get all fabric interfaces   \n",
      "\n",
      "                                                query      score  \n",
      "0   match(node('system', role='spine', deploy_mode...  23.679279  \n",
      "1   match(node('system', name='system', deploy_mod...  23.679279  \n",
      "2   match(node('system', name='switches', role=is_...  23.679279  \n",
      "3   match(node('system', role='spine', deploy_mode...  24.059250  \n",
      "4   match(node('security_zone', name='sz', label='...  23.679279  \n",
      "5   match(node('system', name='system', deploy_mod...  27.239489  \n",
      "6   match(node('system', system_type='external', t...  23.679279  \n",
      "7   match(node('system', name='system').out('devic...  23.679279  \n",
      "8   match(node('system', name='system').out('inter...  23.679279  \n",
      "9   match(node('domain', domain_type='autonomous_s...  23.679279  \n",
      "10  match(node('system', role='leaf', deploy_mode=...  23.905039  \n",
      "11  match(node('link', role='external', tag=has_al...  23.679279  \n",
      "12  match(node('system', role='leaf', name='system...  24.059250  \n",
      "13  match(node('system', name='system').out('hoste...  23.679279  \n",
      "14  match(node('link', role='internal', tag=has_al...  23.679279  \n",
      "15  match(node('domain', name='domain', domain_typ...  23.679279  \n",
      "16  match(node('link', role='external', tag=has_an...  18.398420  \n",
      "17  match(node('interface', tag=has_any(['tag1', '...  18.398420  \n",
      "18    match(node('system', name='leaf', role='leaf'))  23.679279  \n",
      "19  match(node('system', system_type='internal', t...  23.679279  \n",
      "20  match(node('security_zone', name='sz').out('in...  24.059250  \n",
      "21  match(node('system', name='system', system_typ...  23.679279  \n",
      "22  match(node('system', system_type='internal', t...  18.398420  \n",
      "23  match(node('interface', tag=has_all(['tag1', '...  23.679279  \n",
      "24  match(node('system', name='device').out('hoste...  23.679279  \n",
      "25  match(node('link', role='internal', tag=has_an...  18.398420  \n",
      "26  match(node('system', name='switch1').out().nod...  23.679279  \n",
      "27  match(node('system', name='system').out('inter...  23.679279  \n",
      "28  match(node('interface', tag=has_any(['tag1', '...  18.398420  \n",
      "29  match(node('interface', tag=has_all(['tag1', '...  23.679279  \n",
      "30  match(node('system', name='system', role=is_in...  23.679279  \n",
      "31  match(node('system', system_type='external', t...  18.398420  \n",
      "32  match(node('system', name='system', deploy_mod...  23.679279  \n",
      "33  match(node('redundancy_group', name='rg').out(...  23.679279  \n",
      "34  match(node('system', name='system', deploy_mod...  23.679279  \n"
     ]
    }
   ],
   "source": [
    "scores = []\n",
    "for index, row in df.iterrows():\n",
    "    scores.append(make_prediction(row[\"label\"]))\n",
    "    \n",
    "scores_df = df.assign(score=scores)\n",
    "    \n",
    "print(scores_df)\n",
    "    "
   ]
  },
  {
   "cell_type": "code",
   "execution_count": 108,
   "id": "1995ad7c-21c4-4423-80ef-dac4c276cbd9",
   "metadata": {},
   "outputs": [
    {
     "name": "stdout",
     "output_type": "stream",
     "text": [
      "Model Prediction: 23.679279327392578\n",
      "Closest Match: label         get all links in the fabric belonging to the r...\n",
      "query         match(node('system', role='spine', deploy_mode...\n",
      "score                                                 23.679279\n",
      "difference                                                  0.0\n",
      "Name: 0, dtype: object\n"
     ]
    }
   ],
   "source": [
    "input_text = \"Get all leafs and access switches\"\n",
    "\n",
    "predicted_score = make_prediction(input_text=input_text)\n",
    "print(f\"Model Prediction: {predicted_score}\")\n",
    "\n",
    "scores_df['difference'] = abs(scores_df['score'] - predicted_score)\n",
    "closest_match = scores_df.loc[scores_df['difference'].idxmin()]\n",
    "print(f\"Closest Match: {closest_match}\")"
   ]
  },
  {
   "cell_type": "markdown",
   "id": "adc3accf-a804-45f1-9d0c-341e64fed34e",
   "metadata": {},
   "source": [
    "# Delete the endpoint after use"
   ]
  },
  {
   "cell_type": "code",
   "execution_count": 109,
   "id": "af64ab2e-a0cf-4955-b656-1be590bd29c7",
   "metadata": {},
   "outputs": [
    {
     "name": "stderr",
     "output_type": "stream",
     "text": [
      "INFO:sagemaker:Deleting endpoint configuration with name: sagemaker-xgboost-2024-06-14-18-08-56-730\n",
      "INFO:sagemaker:Deleting endpoint with name: sagemaker-xgboost-2024-06-14-18-08-56-730\n"
     ]
    }
   ],
   "source": [
    "xgb_predictor.delete_endpoint()"
   ]
  },
  {
   "cell_type": "code",
   "execution_count": null,
   "id": "7ab7fe9b-0886-481d-a869-9f4f55cf7fc4",
   "metadata": {},
   "outputs": [],
   "source": []
  }
 ],
 "metadata": {
  "kernelspec": {
   "display_name": "conda_pytorch_p310",
   "language": "python",
   "name": "conda_pytorch_p310"
  },
  "language_info": {
   "codemirror_mode": {
    "name": "ipython",
    "version": 3
   },
   "file_extension": ".py",
   "mimetype": "text/x-python",
   "name": "python",
   "nbconvert_exporter": "python",
   "pygments_lexer": "ipython3",
   "version": "3.10.14"
  }
 },
 "nbformat": 4,
 "nbformat_minor": 5
}

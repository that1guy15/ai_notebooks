{
  "nbformat": 4,
  "nbformat_minor": 0,
  "metadata": {
    "colab": {
      "provenance": [],
      "gpuType": "T4",
      "authorship_tag": "ABX9TyPm5ji0NGhsBganVCqL9RzQ",
      "include_colab_link": true
    },
    "kernelspec": {
      "name": "python3",
      "display_name": "Python 3"
    },
    "language_info": {
      "name": "python"
    },
    "accelerator": "GPU"
  },
  "cells": [
    {
      "cell_type": "markdown",
      "metadata": {
        "id": "view-in-github",
        "colab_type": "text"
      },
      "source": [
        "<a href=\"https://colab.research.google.com/github/that1guy15/ai_notebooks/blob/main/Stability_zero123_3D.ipynb\" target=\"_parent\"><img src=\"https://colab.research.google.com/assets/colab-badge.svg\" alt=\"Open In Colab\"/></a>"
      ]
    },
    {
      "cell_type": "code",
      "source": [
        "!nvidia-smi"
      ],
      "metadata": {
        "id": "Ene_z67Nv_Xl"
      },
      "execution_count": null,
      "outputs": []
    },
    {
      "cell_type": "code",
      "source": [
        "!pip install huggingface_hub\n",
        "from huggingface_hub import notebook_login\n",
        "notebook_login()\n"
      ],
      "metadata": {
        "id": "BY_BoFhcxVuf"
      },
      "execution_count": null,
      "outputs": []
    },
    {
      "cell_type": "code",
      "execution_count": null,
      "metadata": {
        "id": "pBkMYvJtVVlk"
      },
      "outputs": [],
      "source": [
        "!python3 -m pip install --upgrade pip\n",
        "!pip install torch==1.12.1+cu113 torchvision==0.13.1+cu113 --extra-index-url https://download.pytorch.org/whl/cu113\n",
        "!pip install torch torchvision --index-url https://download.pytorch.org/whl/cu118\n",
        "!pip install ninja"
      ]
    },
    {
      "cell_type": "code",
      "source": [
        "%cd /usr/local/\n",
        "!git clone --recursive https://github.com/nvlabs/tiny-cuda-nn\n",
        "%cd tiny-cuda-nn\n",
        "!cmake . -B build -DCMAKE_BUILD_TYPE=RelWithDebInfo\n",
        "!cmake --build build --config RelWithDebInfo -j\n",
        "%env PATH=\"/usr/local/cuda-11.4/bin:$PATH\"\n",
        "%env LD_LIBRARY_PATH=\"/usr/local/cuda-11.4/lib64:$LD_LIBRARY_PATH\""
      ],
      "metadata": {
        "id": "VVNZGJiD0uBb"
      },
      "execution_count": null,
      "outputs": []
    },
    {
      "cell_type": "code",
      "source": [
        "!git clone https://github.com/threestudio-project/threestudio.git\n",
        "%cd /content/threestudio/\n",
        "!pip install -r requirements.txt"
      ],
      "metadata": {
        "id": "K6MsPtM7vtP4"
      },
      "execution_count": null,
      "outputs": []
    },
    {
      "cell_type": "code",
      "source": [
        "from google.colab import drive\n",
        "drive.mount('/content/drive')"
      ],
      "metadata": {
        "id": "9lrz_4BThNBX"
      },
      "execution_count": null,
      "outputs": []
    },
    {
      "cell_type": "code",
      "source": [
        "%cd /content/drive/MyDrive/AI/Stability\n",
        "!wget -O stable_zero123.ckpt https://huggingface.co/stabilityai/stable-zero123/resolve/main/stable_zero123.ckpt?download=true"
      ],
      "metadata": {
        "id": "rewqlsk1iRzI"
      },
      "execution_count": null,
      "outputs": []
    },
    {
      "cell_type": "code",
      "source": [
        "# Download the Stable Zero123 checkpoint stable_zero123.ckpt into the load/zero123/ directory\n",
        "%cd /content/threestudio\n",
        "!cp /content/drive/MyDrive/AI/Stability/stable_zero123.ckpt ./load/zero123/\n"
      ],
      "metadata": {
        "id": "z9E-x_T4Wu8c"
      },
      "execution_count": null,
      "outputs": []
    },
    {
      "cell_type": "markdown",
      "source": [
        "\n",
        "\n",
        "1.   Take an image of your choice, or generate it from text using your favourite AI image generator such as SDXL Turbo (https://clipdrop.co/stable-diffusion-turbo) E.g. \"A simple 3D render of a friendly dog\"\n",
        "2.   Remove its background using Clipdrop (https://clipdrop.co/remove-background)\n",
        "3.  Save to load/images/, preferably with _rgba.png as the suffix\n",
        "4.  Run Zero-1-to-3 with the Stable Zero123 ckpt:\n",
        "```python launch.py --config configs/stable-zero123.yaml --train --gpu 0 data.image_path=./load/images/hamburger_rgba.png```"
      ],
      "metadata": {
        "id": "DYpP1U-bW-2n"
      }
    },
    {
      "cell_type": "code",
      "source": [
        "!cp /content/drive/MyDrive/AI/video_games/main_character_girl_1.png ./load/images/main_character_girl_rgba.png\n",
        "!cp /content/drive/MyDrive/AI/video_games/main_character_boy.png ./load/images/main_character_boy_rgba.png"
      ],
      "metadata": {
        "id": "Z_T9hF0rqCN4"
      },
      "execution_count": null,
      "outputs": []
    },
    {
      "cell_type": "code",
      "source": [
        "! pip install pytorch-lightning omegaconf jaxtyping tinycudann"
      ],
      "metadata": {
        "id": "l8iI-u7lB-y4"
      },
      "execution_count": null,
      "outputs": []
    },
    {
      "cell_type": "code",
      "source": [
        "%cd /content/threestudio\n",
        "!python launch.py --config configs/stable-zero123.yaml --train --gpu 0 data.image_path=./load/images/main_character_girl_rgba.png"
      ],
      "metadata": {
        "id": "eTFhF4fDW9-V"
      },
      "execution_count": null,
      "outputs": []
    },
    {
      "cell_type": "code",
      "source": [
        "!which tinycudann"
      ],
      "metadata": {
        "id": "D0fRqAqDEd9D"
      },
      "execution_count": null,
      "outputs": []
    }
  ]
}